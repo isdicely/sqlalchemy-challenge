{
 "cells": [
  {
   "cell_type": "code",
   "execution_count": 1,
   "metadata": {},
   "outputs": [],
   "source": [
    "%matplotlib inline\n",
    "from matplotlib import style\n",
    "style.use('fivethirtyeight')\n",
    "import matplotlib.pyplot as plt"
   ]
  },
  {
   "cell_type": "code",
   "execution_count": 2,
   "metadata": {},
   "outputs": [],
   "source": [
    "import numpy as np\n",
    "import pandas as pd\n",
    "import datetime as dt"
   ]
  },
  {
   "cell_type": "markdown",
   "metadata": {},
   "source": [
    "# Reflect Tables into SQLAlchemy ORM"
   ]
  },
  {
   "cell_type": "code",
   "execution_count": 3,
   "metadata": {},
   "outputs": [],
   "source": [
    "# Python SQL toolkit and Object Relational Mapper\n",
    "import sqlalchemy\n",
    "from sqlalchemy.ext.automap import automap_base\n",
    "from sqlalchemy.orm import Session\n",
    "from sqlalchemy import create_engine, func"
   ]
  },
  {
   "cell_type": "code",
   "execution_count": 4,
   "metadata": {},
   "outputs": [],
   "source": [
    "# create engine to hawaii.sqlite\n",
    "engine = create_engine(\"sqlite:///hawaii.sqlite\", echo = True)"
   ]
  },
  {
   "cell_type": "code",
   "execution_count": 11,
   "metadata": {},
   "outputs": [
    {
     "output_type": "stream",
     "name": "stdout",
     "text": [
      "2021-05-21 13:52:19,202 INFO sqlalchemy.engine.base.Engine SELECT name FROM sqlite_master WHERE type='table' ORDER BY name\n",
      "2021-05-21 13:52:19,204 INFO sqlalchemy.engine.base.Engine ()\n",
      "2021-05-21 13:52:19,206 INFO sqlalchemy.engine.base.Engine PRAGMA main.table_xinfo(\"measurement\")\n",
      "2021-05-21 13:52:19,208 INFO sqlalchemy.engine.base.Engine ()\n",
      "2021-05-21 13:52:19,210 INFO sqlalchemy.engine.base.Engine SELECT sql FROM  (SELECT * FROM sqlite_master UNION ALL   SELECT * FROM sqlite_temp_master) WHERE name = ? AND type = 'table'\n",
      "2021-05-21 13:52:19,212 INFO sqlalchemy.engine.base.Engine ('measurement',)\n",
      "2021-05-21 13:52:19,214 INFO sqlalchemy.engine.base.Engine PRAGMA main.foreign_key_list(\"measurement\")\n",
      "2021-05-21 13:52:19,215 INFO sqlalchemy.engine.base.Engine ()\n",
      "2021-05-21 13:52:19,216 INFO sqlalchemy.engine.base.Engine PRAGMA temp.foreign_key_list(\"measurement\")\n",
      "2021-05-21 13:52:19,217 INFO sqlalchemy.engine.base.Engine ()\n",
      "2021-05-21 13:52:19,218 INFO sqlalchemy.engine.base.Engine SELECT sql FROM  (SELECT * FROM sqlite_master UNION ALL   SELECT * FROM sqlite_temp_master) WHERE name = ? AND type = 'table'\n",
      "2021-05-21 13:52:19,218 INFO sqlalchemy.engine.base.Engine ('measurement',)\n",
      "2021-05-21 13:52:19,220 INFO sqlalchemy.engine.base.Engine PRAGMA main.index_list(\"measurement\")\n",
      "2021-05-21 13:52:19,220 INFO sqlalchemy.engine.base.Engine ()\n",
      "2021-05-21 13:52:19,223 INFO sqlalchemy.engine.base.Engine PRAGMA temp.index_list(\"measurement\")\n",
      "2021-05-21 13:52:19,224 INFO sqlalchemy.engine.base.Engine ()\n",
      "2021-05-21 13:52:19,225 INFO sqlalchemy.engine.base.Engine PRAGMA main.index_list(\"measurement\")\n",
      "2021-05-21 13:52:19,226 INFO sqlalchemy.engine.base.Engine ()\n",
      "2021-05-21 13:52:19,227 INFO sqlalchemy.engine.base.Engine PRAGMA temp.index_list(\"measurement\")\n",
      "2021-05-21 13:52:19,227 INFO sqlalchemy.engine.base.Engine ()\n",
      "2021-05-21 13:52:19,228 INFO sqlalchemy.engine.base.Engine SELECT sql FROM  (SELECT * FROM sqlite_master UNION ALL   SELECT * FROM sqlite_temp_master) WHERE name = ? AND type = 'table'\n",
      "2021-05-21 13:52:19,229 INFO sqlalchemy.engine.base.Engine ('measurement',)\n",
      "2021-05-21 13:52:19,230 INFO sqlalchemy.engine.base.Engine PRAGMA main.table_xinfo(\"station\")\n",
      "2021-05-21 13:52:19,231 INFO sqlalchemy.engine.base.Engine ()\n",
      "2021-05-21 13:52:19,233 INFO sqlalchemy.engine.base.Engine SELECT sql FROM  (SELECT * FROM sqlite_master UNION ALL   SELECT * FROM sqlite_temp_master) WHERE name = ? AND type = 'table'\n",
      "2021-05-21 13:52:19,234 INFO sqlalchemy.engine.base.Engine ('station',)\n",
      "2021-05-21 13:52:19,235 INFO sqlalchemy.engine.base.Engine PRAGMA main.foreign_key_list(\"station\")\n",
      "2021-05-21 13:52:19,236 INFO sqlalchemy.engine.base.Engine ()\n",
      "2021-05-21 13:52:19,236 INFO sqlalchemy.engine.base.Engine PRAGMA temp.foreign_key_list(\"station\")\n",
      "2021-05-21 13:52:19,237 INFO sqlalchemy.engine.base.Engine ()\n",
      "2021-05-21 13:52:19,238 INFO sqlalchemy.engine.base.Engine SELECT sql FROM  (SELECT * FROM sqlite_master UNION ALL   SELECT * FROM sqlite_temp_master) WHERE name = ? AND type = 'table'\n",
      "2021-05-21 13:52:19,239 INFO sqlalchemy.engine.base.Engine ('station',)\n",
      "2021-05-21 13:52:19,240 INFO sqlalchemy.engine.base.Engine PRAGMA main.index_list(\"station\")\n",
      "2021-05-21 13:52:19,241 INFO sqlalchemy.engine.base.Engine ()\n",
      "2021-05-21 13:52:19,242 INFO sqlalchemy.engine.base.Engine PRAGMA temp.index_list(\"station\")\n",
      "2021-05-21 13:52:19,242 INFO sqlalchemy.engine.base.Engine ()\n",
      "2021-05-21 13:52:19,244 INFO sqlalchemy.engine.base.Engine PRAGMA main.index_list(\"station\")\n",
      "2021-05-21 13:52:19,246 INFO sqlalchemy.engine.base.Engine ()\n",
      "2021-05-21 13:52:19,247 INFO sqlalchemy.engine.base.Engine PRAGMA temp.index_list(\"station\")\n",
      "2021-05-21 13:52:19,247 INFO sqlalchemy.engine.base.Engine ()\n",
      "2021-05-21 13:52:19,248 INFO sqlalchemy.engine.base.Engine SELECT sql FROM  (SELECT * FROM sqlite_master UNION ALL   SELECT * FROM sqlite_temp_master) WHERE name = ? AND type = 'table'\n",
      "2021-05-21 13:52:19,249 INFO sqlalchemy.engine.base.Engine ('station',)\n"
     ]
    }
   ],
   "source": [
    "# reflect an existing database into a new model\n",
    "    # creates set of clases for each table in hawaii.sqlite\n",
    "Base = automap_base()\n",
    "\n",
    "# reflect the tables (defines classes that represent data in the table)\n",
    "Base.prepare(engine, reflect=True)\n"
   ]
  },
  {
   "cell_type": "code",
   "execution_count": 12,
   "metadata": {},
   "outputs": [
    {
     "output_type": "stream",
     "name": "stdout",
     "text": [
      "<class 'sqlalchemy.ext.automap.measurement'>\n<class 'sqlalchemy.ext.automap.station'>\n"
     ]
    }
   ],
   "source": [
    "# View all of the classes that automap found\n",
    "for cls in Base.classes:\n",
    "    print(cls)\n"
   ]
  },
  {
   "cell_type": "code",
   "execution_count": 13,
   "metadata": {},
   "outputs": [],
   "source": [
    "# Save references to each table\n",
    "Station = Base.classes.station\n",
    "Measurement = Base.classes.measurement"
   ]
  },
  {
   "cell_type": "code",
   "execution_count": 15,
   "metadata": {},
   "outputs": [
    {
     "output_type": "execute_result",
     "data": {
      "text/plain": [
       "<sqlalchemy.orm.session.Session at 0x17459388670>"
      ]
     },
     "metadata": {},
     "execution_count": 15
    }
   ],
   "source": [
    "# Create our session (link) from Python to the DB\n",
    "session = Session(engine)\n",
    "session\n"
   ]
  },
  {
   "cell_type": "markdown",
   "metadata": {},
   "source": [
    "# Exploratory Precipitation Analysis"
   ]
  },
  {
   "cell_type": "code",
   "execution_count": null,
   "metadata": {},
   "outputs": [],
   "source": [
    "# Find the most recent date in the data set."
   ]
  },
  {
   "cell_type": "code",
   "execution_count": null,
   "metadata": {},
   "outputs": [],
   "source": [
    "# Design a query to retrieve the last 12 months of precipitation data and plot the results. \n",
    "# Starting from the most recent data point in the database. \n",
    "\n",
    "# Calculate the date one year from the last date in data set.\n",
    "\n",
    "\n",
    "# Perform a query to retrieve the data and precipitation scores\n",
    "\n",
    "\n",
    "# Save the query results as a Pandas DataFrame and set the index to the date column\n",
    "\n",
    "\n",
    "# Sort the dataframe by date\n",
    "\n",
    "\n",
    "# Use Pandas Plotting with Matplotlib to plot the data\n",
    "\n",
    "\n"
   ]
  },
  {
   "cell_type": "code",
   "execution_count": null,
   "metadata": {},
   "outputs": [],
   "source": [
    "# Use Pandas to calcualte the summary statistics for the precipitation data\n"
   ]
  },
  {
   "cell_type": "markdown",
   "metadata": {},
   "source": [
    "# Exploratory Station Analysis"
   ]
  },
  {
   "cell_type": "code",
   "execution_count": null,
   "metadata": {},
   "outputs": [],
   "source": [
    "# Design a query to calculate the total number stations in the dataset\n"
   ]
  },
  {
   "cell_type": "code",
   "execution_count": null,
   "metadata": {},
   "outputs": [],
   "source": [
    "# Design a query to find the most active stations (i.e. what stations have the most rows?)\n",
    "# List the stations and the counts in descending order.\n"
   ]
  },
  {
   "cell_type": "code",
   "execution_count": null,
   "metadata": {},
   "outputs": [],
   "source": [
    "# Using the most active station id from the previous query, calculate the lowest, highest, and average temperature.\n"
   ]
  },
  {
   "cell_type": "code",
   "execution_count": null,
   "metadata": {},
   "outputs": [],
   "source": [
    "# Using the most active station id\n",
    "# Query the last 12 months of temperature observation data for this station and plot the results as a histogram\n"
   ]
  },
  {
   "cell_type": "markdown",
   "metadata": {},
   "source": [
    "# Close session"
   ]
  },
  {
   "cell_type": "code",
   "execution_count": null,
   "metadata": {},
   "outputs": [],
   "source": [
    "# Close Session\n",
    "session.close()"
   ]
  },
  {
   "cell_type": "code",
   "execution_count": null,
   "metadata": {},
   "outputs": [],
   "source": []
  }
 ],
 "metadata": {
  "anaconda-cloud": {},
  "kernel_info": {
   "name": "python3"
  },
  "kernelspec": {
   "name": "python385jvsc74a57bd062c9129753a97d27c3b5978295267ee6e80bed424ba4d51525390fc26af81ec8",
   "display_name": "Python 3.8.5 64-bit ('base': conda)"
  },
  "language_info": {
   "codemirror_mode": {
    "name": "ipython",
    "version": 3
   },
   "file_extension": ".py",
   "mimetype": "text/x-python",
   "name": "python",
   "nbconvert_exporter": "python",
   "pygments_lexer": "ipython3",
   "version": "3.8.5"
  },
  "nteract": {
   "version": "0.12.3"
  },
  "varInspector": {
   "cols": {
    "lenName": 16,
    "lenType": 16,
    "lenVar": 40
   },
   "kernels_config": {
    "python": {
     "delete_cmd_postfix": "",
     "delete_cmd_prefix": "del ",
     "library": "var_list.py",
     "varRefreshCmd": "print(var_dic_list())"
    },
    "r": {
     "delete_cmd_postfix": ") ",
     "delete_cmd_prefix": "rm(",
     "library": "var_list.r",
     "varRefreshCmd": "cat(var_dic_list()) "
    }
   },
   "types_to_exclude": [
    "module",
    "function",
    "builtin_function_or_method",
    "instance",
    "_Feature"
   ],
   "window_display": false
  }
 },
 "nbformat": 4,
 "nbformat_minor": 2
}